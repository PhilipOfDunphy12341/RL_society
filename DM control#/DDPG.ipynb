{
 "cells": [
  {
   "cell_type": "code",
   "execution_count": 1,
   "metadata": {},
   "outputs": [],
   "source": [
    "import tensorflow as tf\n",
    "import gym\n",
    "from keras.models import Sequential\n",
    "from keras.layers import Dense, Activation, Input, Dropout, Normalization\n",
    "from tensorflow.keras.optimizers import Adam\n",
    "import numpy as np\n",
    "import cv2\n",
    "import os\n",
    "from collections import deque\n",
    "from keras.callbacks import TensorBoard\n",
    "import time\n",
    "import random\n",
    "#HELPER FUNCTION\n",
    "\n",
    "# General\n",
    "import copy\n",
    "import os\n",
    "import itertools\n",
    "from IPython.display import clear_output\n",
    "import numpy as np\n",
    "\n",
    "# Graphics-related\n",
    "import matplotlib\n",
    "import matplotlib.animation as animation\n",
    "import matplotlib.pyplot as plt\n",
    "from IPython.display import HTML\n",
    "import PIL.Image"
   ]
  },
  {
   "cell_type": "code",
   "execution_count": 2,
   "metadata": {},
   "outputs": [],
   "source": [
    "class ModifiedTensorBoard(TensorBoard):\n",
    "\n",
    "    def __init__(self, **kwargs):\n",
    "        super().__init__(**kwargs)\n",
    "        self.step = 1\n",
    "        self.writer = tf.summary.create_file_writer(self.log_dir)\n",
    "        self._log_write_dir = self.log_dir\n",
    "    \n",
    "    def set_model(self, model):\n",
    "        self.model = model\n",
    "    \n",
    "        self._train_dir = os.path.join(self._log_write_dir, 'train')\n",
    "        self._train_step = self.model._train_counter\n",
    "    \n",
    "        self._val_dir = os.path.join(self._log_write_dir, 'validation')\n",
    "        self._val_step = self.model._test_counter\n",
    "    \n",
    "        self._should_write_train_graph = False\n",
    "    \n",
    "    def on_epoch_end(self, epoch, logs=None):\n",
    "        self.update_stats(**logs)\n",
    "    \n",
    "    def on_batch_end(self, batch, logs=None):\n",
    "        pass\n",
    "    \n",
    "    def on_train_end(self, _):\n",
    "        pass\n",
    "    \n",
    "    def update_stats(self, **stats):\n",
    "        with self.writer.as_default():\n",
    "            for key, value in stats.items():\n",
    "                tf.summary.scalar(key, value, step = self.step)\n",
    "                self.writer.flush()"
   ]
  },
  {
   "cell_type": "code",
   "execution_count": null,
   "metadata": {},
   "outputs": [],
   "source": [
    "class DDPG_agent():\n",
    "    "
   ]
  },
  {
   "cell_type": "code",
   "execution_count": null,
   "metadata": {},
   "outputs": [],
   "source": [
    "#Episode openai gym\n",
    "def run_episode_2(epsilon,step,render,rewards):\n",
    "    env = gym.make('MountainCarContinuous-v0')\n",
    "    observation = env.reset()\n",
    "    done = False\n",
    "    for i in range(200):\n",
    "        transition = []\n",
    "        if render == True:\n",
    "            env.render()\n",
    "        transition.append(observation)\n",
    "        attempt = agent.get_qs(((observation).reshape(-1,2)))\n",
    "        attempt_max = np.argmax(attempt)\n",
    "        '''\n",
    "        if np.random.random()>epsilon:\n",
    "            if attempt_max == 0:\n",
    "                action =0\n",
    "            elif attempt_max ==1:\n",
    "                action =1\n",
    "        else:\n",
    "            rand = np.random.random()\n",
    "            if rand >0.5:\n",
    "                action = 0\n",
    "            elif 0.5>rand:\n",
    "                action =1\n",
    "                '''\n",
    "        transition.append(action)\n",
    "        observation, reward, done, info = env.step(action)\n",
    "        transition.append(reward)\n",
    "        rewards.append(reward)\n",
    "        transition.append(observation)\n",
    "        transition.append(done)\n",
    "        agent.update_replay_memory(transition)\n",
    "        agent.train(done,step)\n",
    "    env.close()"
   ]
  }
 ],
 "metadata": {
  "interpreter": {
   "hash": "6b2678bb939e02708a85109ce432d5ed9cfdd3b231335073a43287bf3ec8a66c"
  },
  "kernelspec": {
   "display_name": "Python 3.9.5 64-bit",
   "language": "python",
   "name": "python3"
  },
  "language_info": {
   "codemirror_mode": {
    "name": "ipython",
    "version": 3
   },
   "file_extension": ".py",
   "mimetype": "text/x-python",
   "name": "python",
   "nbconvert_exporter": "python",
   "pygments_lexer": "ipython3",
   "version": "3.9.5"
  },
  "orig_nbformat": 4
 },
 "nbformat": 4,
 "nbformat_minor": 2
}
