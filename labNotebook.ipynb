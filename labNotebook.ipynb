{
 "cells": [
  {
   "cell_type": "code",
   "execution_count": 1,
   "metadata": {},
   "outputs": [],
   "source": [
    "import numpy as np\n",
    "import matplotlib.pyplot as plt\n",
    "\n",
    "def ksdensity(data, width=0.3):\n",
    "    \"\"\"Returns kernel smoothing function from data points in data\"\"\"\n",
    "    def ksd(x_axis): # normal pdf\n",
    "        def n_pdf(x, mu=0., sigma=1.):\n",
    "            u = (x - mu) / abs(sigma)\n",
    "            y = (1 / (np.sqrt(2 * np.pi) * abs(sigma)))\n",
    "            y *= np.exp(-u * u / 2)\n",
    "            return y\n",
    "        prob = [n_pdf(x_i, data, width) for x_i in x_axis]\n",
    "        pdf = [np.average(pr) for pr in prob] # each row is one x value\n",
    "        return np.array(pdf)\n",
    "    return ksd\n"
   ]
  },
  {
   "cell_type": "code",
   "execution_count": 2,
   "metadata": {},
   "outputs": [
    {
     "data": {
      "image/png": "[encoded data removed]",
      "text/plain": [
       "<Figure size 432x288 with 2 Axes>"
      ]
     },
     "metadata": {
      "needs_background": "light"
     },
     "output_type": "display_data"
    },
    {
     "data": {
      "image/png": "[encoded data removed]",
      "text/plain": [
       "<Figure size 432x288 with 2 Axes>"
      ]
     },
     "metadata": {
      "needs_background": "light"
     },
     "output_type": "display_data"
    }
   ],
   "source": [
    "# Plot normal distribution\n",
    "fig, ax = plt.subplots(2)\n",
    "x = np.random.randn(1000)\n",
    "ax[0].hist(x, bins=30) # number of bins\n",
    "ax[0].plot()\n",
    "ks_density = ksdensity(x, width=0.4)\n",
    "# np.linspace(start, stop, number of steps)\n",
    "x_values = np.linspace(-5., 5., 100)\n",
    "ax[1].plot(x_values, ks_density(x_values))\n",
    "\n",
    "# Plot uniform distribution\n",
    "fig2, ax2 = plt.subplots(2)\n",
    "x = np.random.rand(1000)\n",
    "ax2[0].hist(x, bins=20)\n",
    "ks_density = ksdensity(x, width=0.2)\n",
    "x_values = np.linspace(-1., 2., 100)\n",
    "plt.show()\n",
    "ax2[1].plot(x_values, ks_density(x_values))\n",
    "plt.show()"
   ]
  },
  {
   "cell_type": "markdown",
   "metadata": {},
   "source": [
    "There is a clear advantage to using the kernel density function as it is smoothed into a continuous function that can better be intepreted when comparing to a continuous normal disribution. "
   ]
  },
  {
   "cell_type": "code",
   "execution_count": 67,
   "metadata": {},
   "outputs": [
    {
     "name": "stdout",
     "output_type": "stream",
     "text": [
      "[0.0332, 0.0334, 0.0308, 0.0309, 0.0324, 0.0332, 0.0335, 0.0347, 0.0294, 0.0342, 0.0317, 0.0329, 0.0336, 0.0344, 0.0346, 0.0324, 0.0329, 0.035, 0.0326, 0.0347, 0.0342, 0.0342, 0.0329, 0.0364, 0.0307, 0.0349, 0.0368, 0.0297, 0.0342, 0.0355]\n",
      "theoretical mean is 333.3333333333333. Calulated mean is 308.0 for N =10000\n",
      "theoretical sd is 17.950549357115012. Calulated sd is 17.27754612206259 for N =10000\n"
     ]
    }
   ],
   "source": [
    "#Finding the theoretical mean and standard deviation from uniform distribution histogram data\n",
    "samples =10000\n",
    "n = np.random.rand(samples)\n",
    "\n",
    "bins = []\n",
    "bin_number = 30\n",
    "for i in range(bin_number):\n",
    "    interval = 1/bin_number\n",
    "    temp_list =[]\n",
    "    for nj in n:\n",
    "        if (interval*(i)) < nj < (interval*(i+1)):\n",
    "            temp_list.append(nj)\n",
    "    bins.append(temp_list)\n",
    "\n",
    "#probabilities\n",
    "def get_probs(bins):\n",
    "    bin_probs=[]\n",
    "    for x in range(len(bins)):\n",
    "        bins_num = len(bins[x])\n",
    "        bin_probs.append(bins_num/samples)\n",
    "    return(bin_probs)\n",
    "print(get_probs(bins))\n",
    "\n",
    "#means\n",
    "def bin_mean(bins,j):\n",
    "    return samples*get_probs(bins)[j]\n",
    "\n",
    "#standard deviations\n",
    "def bin_sd(bins,j):\n",
    "    return np.sqrt(samples*get_probs(bins)[j]*(1-get_probs(bins)[j]))\n",
    "print('theoretical mean is ' + str(samples*(1/bin_number)) + \". Calulated mean is \" +str(bin_mean(bins,2)) + \" for N =\" + str(samples))\n",
    "print('theoretical sd is ' + str(np.sqrt(samples*(1/bin_number)*(1-1/bin_number))) + \". Calulated sd is \" +str(bin_sd(bins,2)) + \" for N =\" + str(samples))\n"
   ]
  },
  {
   "cell_type": "markdown",
   "metadata": {},
   "source": [
    "As N increases we see the probabilities, mean and sd start tending towards the true uniform distribution.\n",
    "Therefore the histogram results are consistent with the multinomial distribution theory."
   ]
  },
  {
   "cell_type": "code",
   "execution_count": null,
   "metadata": {},
   "outputs": [],
   "source": []
  },
  {
   "cell_type": "markdown",
   "metadata": {},
   "source": []
  }
 ],
 "metadata": {
  "interpreter": {
   "hash": "6b2678bb939e02708a85109ce432d5ed9cfdd3b231335073a43287bf3ec8a66c"
  },
  "kernelspec": {
   "display_name": "Python 3.9.5 64-bit",
   "name": "python3"
  },
  "language_info": {
   "codemirror_mode": {
    "name": "ipython",
    "version": 3
   },
   "file_extension": ".py",
   "mimetype": "text/x-python",
   "name": "python",
   "nbconvert_exporter": "python",
   "pygments_lexer": "ipython3",
   "version": "3.9.5"
  },
  "orig_nbformat": 4
 },
 "nbformat": 4,
 "nbformat_minor": 2
}
